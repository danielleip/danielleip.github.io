{
 "cells": [
  {
   "cell_type": "markdown",
   "metadata": {},
   "source": [
    "# Learning Javascript\n"
   ]
  },
  {
   "cell_type": "markdown",
   "metadata": {},
   "source": [
    "### Table of Contents \n",
    "#### 1. Data Types \n",
    "#### 2. Control Flow \n",
    "#### 3. Looping\n",
    "#### 4. Functions\n",
    "#### 5. Integrating with HTML/CSS"
   ]
  },
  {
   "cell_type": "markdown",
   "metadata": {},
   "source": [
    "## 1. Data Types"
   ]
  },
  {
   "cell_type": "markdown",
   "metadata": {},
   "source": [
    "**Basic Data Types**"
   ]
  },
  {
   "cell_type": "markdown",
   "metadata": {},
   "source": [
    "###### String \n",
    "\n",
    "*use \\ to escape a character i.e. a single quote apostrophe and string* \n",
    "\n",
    "    \"ab\" 'c' \n",
    "\n",
    "\n",
    "\n",
    "###### Number \n",
    "    \n",
    "    3.14 69 \n",
    "\n",
    "\n",
    "###### Boolean \n",
    "    \n",
    "    true false\n",
    "    \n",
    "###### Arrays\n",
    "\n",
    "*arrays start at 0*\n",
    "\n",
    "*append (in Python) is push in JS* \n",
    "\n",
    "*remove last element with arrayName.pop()* \n",
    "\n",
    "\n",
    "    ['potato', 'tomato', 'ontato']\n",
    "    \n",
    "    var greetings = ['hi', 'hello', 'hey there']; \n",
    "    \n",
    "    console.log(greetings.length); //will print out 3 \n",
    "    \n",
    "    greetings.push('howdy'); // array is now ['hi', 'hello', 'hey there', 'howdy']; \n",
    "    \n",
    "    \n",
    "    \n",
    "    \n"
   ]
  },
  {
   "cell_type": "markdown",
   "metadata": {},
   "source": [
    "**Variables** \n",
    "\n",
    "    var variableName = 'Variable Value';\n",
    "\n",
    "*can hold any data type, var is mutable*\n",
    "\n",
    "    const variableName = content; \n",
    "*immutable* "
   ]
  },
  {
   "cell_type": "markdown",
   "metadata": {},
   "source": [
    "**Ecetera**\n",
    "\n",
    "    //Single Line Comments \n",
    "\n",
    "\n",
    "    /*\n",
    "    multi-\n",
    "    line\n",
    "    comments\n",
    "    */ "
   ]
  },
  {
   "cell_type": "markdown",
   "metadata": {},
   "source": [
    "## 2. Control Flow \n"
   ]
  },
  {
   "cell_type": "markdown",
   "metadata": {},
   "source": [
    "Making decisions with code "
   ]
  },
  {
   "cell_type": "markdown",
   "metadata": {},
   "source": [
    "**if/else if / else**\n",
    "\n",
    "    if (cond1) { \n",
    "\n",
    "        // some code; \n",
    "    \n",
    "    } else if (cond 2) {\n",
    "\n",
    "        // some other code; \n",
    "    \n",
    "    } else {\n",
    "\n",
    "        // final code; \n",
    "    \n",
    "    }"
   ]
  },
  {
   "cell_type": "markdown",
   "metadata": {},
   "source": [
    "**switch, case, break** \n",
    "\n",
    "    var fruit = 'apple';\n",
    "\n",
    "    switch(fruit) { \n",
    "        case 'apple':   \n",
    "            console.log(\"This is an apple!\"); \n",
    "            break; \n",
    "            \n",
    "        case 'pineapple': \n",
    "            console.log(\"Close, but this is not an apple!\");       \n",
    "            break;        \n",
    "            \n",
    "        default:\n",
    "            console.log(\"Ew! No! What is this! I want an apple!\");        \n",
    "            break; \n",
    "    } \n"
   ]
  },
  {
   "cell_type": "markdown",
   "metadata": {},
   "source": [
    "## 3. Looping"
   ]
  },
  {
   "cell_type": "markdown",
   "metadata": {},
   "source": [
    "**for loops** \n",
    "\n",
    "    for (var i = 0; i < myArray.length; i ++) {\n",
    "        // something with myArray[i]; \n",
    "    } "
   ]
  },
  {
   "cell_type": "markdown",
   "metadata": {},
   "source": [
    "**while loops**\n",
    "\n",
    "    while (condition) {\n",
    "        // do something; \n",
    "    } "
   ]
  },
  {
   "cell_type": "markdown",
   "metadata": {},
   "source": [
    "## 4. Functions "
   ]
  },
  {
   "cell_type": "markdown",
   "metadata": {},
   "source": [
    "**Writing your own function**\n",
    "\n",
    "    func functionName(arg1, arg2) {\n",
    "        // body\n",
    "        return something; \n",
    "    } \n",
    " "
   ]
  },
  {
   "cell_type": "markdown",
   "metadata": {},
   "source": [
    "**Basic Operators** \n",
    "\n",
    "    1 + 2 \n",
    "    1 - 2 \n",
    "    1 * 2 \n",
    "    1 / 2  \n",
    "    \n",
    "    Math.floor() for rounding to the nearest whole number\n",
    "    Math.random() for a random number between [0, 1]\n",
    "\n",
    "**Comparisons**\n",
    "\n",
    "    a || b   is OR\n",
    "    a && b   is AND\n",
    "    !a       is NOT\n",
    "    a < b \n",
    "    a > b \n",
    "    a <= b \n",
    "    a >= b \n",
    "    a === b is EQUALS \n",
    "    a !== b is NOT EQUALS \n",
    "    \n",
    "    \n",
    "**Print**\n",
    "    \n",
    "    console.log(\"Print me\" + \" while also interpolating this!\"); "
   ]
  },
  {
   "cell_type": "markdown",
   "metadata": {},
   "source": [
    "## 5. Integrating with HTML/CSS"
   ]
  },
  {
   "cell_type": "markdown",
   "metadata": {},
   "source": []
  }
 ],
 "metadata": {
  "kernelspec": {
   "display_name": "Python 3",
   "language": "python",
   "name": "python3"
  },
  "language_info": {
   "codemirror_mode": {
    "name": "ipython",
    "version": 3
   },
   "file_extension": ".py",
   "mimetype": "text/x-python",
   "name": "python",
   "nbconvert_exporter": "python",
   "pygments_lexer": "ipython3",
   "version": "3.6.5"
  }
 },
 "nbformat": 4,
 "nbformat_minor": 2
}
